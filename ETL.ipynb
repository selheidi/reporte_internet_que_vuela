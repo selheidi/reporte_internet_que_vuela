{
 "cells": [
  {
   "cell_type": "code",
   "execution_count": 5,
   "id": "8532a601-b276-40ec-8f19-028e966a6fa9",
   "metadata": {
    "tags": []
   },
   "outputs": [],
   "source": [
    "import requests\n",
    "import pandas as pd\n",
    "import json"
   ]
  },
  {
   "cell_type": "markdown",
   "id": "35f3bfd6-0b3d-4182-bdc5-dc5ba2fc37ac",
   "metadata": {},
   "source": [
    "Se hace una solicitud a la API de ENCOM para obtener los datos sobre Acceso a Internet\n",
    "Información de mercado, oferta, demanda y cobertura de los servicios de comunicaciones (2022)"
   ]
  },
  {
   "cell_type": "code",
   "execution_count": 2,
   "id": "19ffdbbb-c48b-4cbc-a9d0-4a353906449c",
   "metadata": {
    "tags": []
   },
   "outputs": [
    {
     "name": "stdout",
     "output_type": "stream",
     "text": [
      "Datos descargados con éxito.\n"
     ]
    }
   ],
   "source": [
    "\n",
    "\n",
    "# Reemplazo 'YOUR_API_KEY' con la clave de autenticación real obtenida en: https://datosabiertos.enacom.gob.ar/developers/\n",
    "api_key = 'Ftj3VMUv7Se4fuu6t3g4GqA70uimEJPbfLE9LNcr'\n",
    "\n",
    "\n",
    "# URL de la API\n",
    "url = f'http://api.datosabiertos.enacom.gob.ar/api/v2/dashboards/ACCES-A-INTER.json/?auth_key={api_key}'\n",
    "\n",
    "# Realizar la solicitud HTTP GET\n",
    "response = requests.get(url)\n",
    "\n",
    "# Verificar si la solicitud fue exitosa (código de respuesta 200)\n",
    "if response.status_code == 200:\n",
    "    # Guardar la respuesta en un archivo JSON \n",
    "    with open('datos_enacom.json', 'w') as file:\n",
    "        file.write(response.text)\n",
    "    print(\"Datos descargados con éxito.\")\n",
    "else:\n",
    "    print(f\"Error al descargar datos. Código de respuesta: {response.status_code}\")\n"
   ]
  },
  {
   "cell_type": "code",
   "execution_count": 8,
   "id": "73737632-e8ff-40c5-b9b9-4716db4d1695",
   "metadata": {
    "tags": []
   },
   "outputs": [
    {
     "name": "stdout",
     "output_type": "stream",
     "text": [
      "{'result': None, 'status': 3, 'endpoint': None, 'description': 'Información de mercado, oferta, demanda y cobertura de los servicios de comunicaciones (2022)', 'parameters': None, 'tags': ['internet', 'banda ancha', 'banda angosta', 'penetración'], 'last_revision_id': 424656, 'timestamp': None, 'created_at': '2023-08-08T15:45:07Z', 'title': 'Acceso a Internet', 'modified_at': '2023-08-08T16:17:20Z', 'category_id': 83729, 'methods': None, 'sources': None, 'total_revisions': 63, 'frequency': None, 'link': None, 'user': 'enacom', 'status_str': None, 'guid': 'ACCES-A-INTER', 'category_name': 'Acceso a Internet', 'resources': [{'doc_type': 'visualization', 'datastream': {'revision': 291794}, 'parameters': '', 'h': 4, 'order': 0, 'link': 'http://datosabiertos.enacom.gob.ar/visualizations/32226/-/', 'w': 4, 'y': 0, 'x': 0, 'guid': 'PENET-DE-INTER-FIJO-57760', 'type': 'vz', 'id': 32226, 'revision': {'vz_lib': 'google', 'vz_impl_details': {'format': {'geoMapColorMax': '#0055ff', 'showLegend': 'checked', 'geoMapDisplayOption': 'countries', 'explorer': '', 'correlativeData': 'false', 'geoMapColorDefault': '', 'chartTemplate': 'basicchart', 'nullValuePreset': '', 'isStacked': '', 'invertData': '', 'geoMapColorBackground': '', 'invertedAxis': '', 'showXAxis': 'checked', 'geoMapColorMiddle': '', 'type': 'geochart', 'geoMapDisplayValue': 'AR', 'geoMapDisplayType': '', 'showYAxis': 'checked', 'geoMapColorDataless': '', 'geoMapColorMin': '#d2e7f5', 'nullValueAction': 'exclude'}, 'data': 'D2:D25', 'chart': {'geoType': '', 'is3D': 'false', 'labelSelection': '', 'latitudSelection': '', 'headerSelection': '', 'isoSelection': 'C2:C25', 'zoom': None, 'bounds': '', 'regionSelection': '', 'traceSelection': '', 'longitudSelection': '', 'mapType': ''}, 'title': 'Penetración de Internet fijo (accesos por cada 100 hogares)'}, 'parameters': [], 'title': 'Penetración de Internet fijo (accesos por cada 100 hogares)', 'vz_type': 'geochart', 'published': True, 'modified_at': '2023-10-31T17:26:09Z', 'id': 56072, 'slug': 'penetracion-de-internet-fijo-accesos-por-cada-100-hogares'}}, {'doc_type': 'visualization', 'datastream': {'revision': 291793}, 'parameters': '', 'h': 4, 'order': 1, 'link': 'http://datosabiertos.enacom.gob.ar/visualizations/29883/-/', 'w': 4, 'y': 0, 'x': 4, 'guid': 'PENET-POR-HOGAR-NACIO-DEL', 'type': 'vz', 'id': 29883, 'revision': {'vz_lib': 'google', 'vz_impl_details': {'format': {'showLegend': 'checked', 'treemapColorMax': '#109618', 'showYAxis': 'checked', 'geoMapColorMax': '', 'geoMapColorMin': '', 'geoMapDisplayOption': '', 'treemapColorMiddle': '#88c181', 'nullValuePreset': '', 'invertData': 'checked', 'treemapColorHeader': '#6c9c8a', 'showScale': '', 'geoMapColorMiddle': '', 'geoMapColorDataless': '', 'isStacked': '', 'geoMapDisplayType': '', 'explorer': '', 'geoMapColorDefault': '', 'geoMapColorBackground': '', 'invertedAxis': '', 'showXAxis': 'checked', 'geoMapDisplayValue': '', 'nullValueAction': 'exclude', 'type': 'linechart', 'chartTemplate': 'basicchart', 'treemapColorFont': '#000', 'treemapColorMin': '#eee5db', 'correlativeData': 'false'}, 'data': 'C2:C18', 'chart': {'geoType': '', 'is3D': 'false', 'labelSelection': 'E2:E18', 'latitudSelection': '', 'headerSelection': 'C1:C1', 'isoSelection': '', 'zoom': None, 'bounds': '', 'regionSelection': '', 'traceSelection': '', 'longitudSelection': '', 'mapType': ''}, 'title': 'Penetración por hogares nacional de Internet fijo'}, 'parameters': [], 'title': 'Penetración por hogares nacional de Internet fijo', 'vz_type': 'linechart', 'published': True, 'modified_at': '2023-10-31T17:27:36Z', 'id': 56077, 'slug': 'penetracion-por-hogares-nacional-de-internet-fijo'}}, {'doc_type': 'datastream', 'parameters': '', 'h': 4, 'order': 2, 'link': 'http://datosabiertos.enacom.gob.ar/dataviews/240976/-/', 'w': 4, 'y': 0, 'x': 8, 'guid': 'TOTAL-NACIO-DE-ACCES-48866', 'type': 'ds', 'id': 240976, 'revision': {'parameters': [], 'title': 'Total nacional de accesos a Internet fijo por banda ancha y banda angosta', 'modified_at': '2023-08-08T15:35:35Z', 'id': 255799, 'published': True, 'slug': 'total-nacional-de-accesos-a-internet-fijo-por-banda-ancha-y-banda-angosta'}}, {'doc_type': 'datastream', 'parameters': '', 'h': 4, 'order': 3, 'link': 'http://datosabiertos.enacom.gob.ar/dataviews/240974/-/', 'w': 4, 'y': 4, 'x': 0, 'guid': 'BANDA-ANCHA-Y-BANDA-ANGOS', 'type': 'ds', 'id': 240974, 'revision': {'parameters': [], 'title': 'Accesos a banda ancha y banda angosta por provincia', 'modified_at': '2023-08-08T15:35:35Z', 'id': 275020, 'published': True, 'slug': 'accesos-a-banda-ancha-y-banda-angosta-por-provincia'}}, {'doc_type': 'visualization', 'datastream': {'revision': 275029}, 'parameters': '', 'h': 4, 'order': 4, 'link': 'http://datosabiertos.enacom.gob.ar/visualizations/29881/-/', 'w': 4, 'y': 4, 'x': 4, 'guid': 'SERIE-TRIME-DE-ACCES-A', 'type': 'vz', 'id': 29881, 'revision': {'vz_lib': 'google', 'vz_impl_details': {'format': {'geoMapColorMax': '', 'showLegend': 'checked', 'geoMapDisplayOption': '', 'explorer': '', 'correlativeData': 'false', 'geoMapColorDefault': '', 'chartTemplate': 'basicchart', 'nullValuePreset': '', 'isStacked': '', 'invertData': 'checked', 'geoMapColorBackground': '', 'invertedAxis': '', 'showXAxis': 'checked', 'geoMapColorMiddle': '', 'type': 'linechart', 'geoMapDisplayValue': '', 'geoMapDisplayType': '', 'showYAxis': 'checked', 'geoMapColorDataless': '', 'geoMapColorMin': '', 'nullValueAction': 'exclude'}, 'data': 'C2:F17', 'chart': {'geoType': '', 'is3D': 'false', 'labelSelection': 'I2:I17', 'latitudSelection': '', 'headerSelection': 'C1:F1', 'isoSelection': '', 'zoom': None, 'bounds': '', 'regionSelection': '', 'traceSelection': '', 'longitudSelection': '', 'mapType': ''}, 'title': 'Serie trimestral de accesos a Internet fijo por tecnología'}, 'parameters': [], 'title': 'Serie trimestral de accesos a Internet fijo por tecnología', 'vz_type': 'linechart', 'published': True, 'modified_at': '2023-08-08T15:42:37Z', 'id': 49270, 'slug': 'serie-trimestral-de-accesos-a-internet-fijo-por-tecnologia'}}, {'doc_type': 'datastream', 'parameters': '', 'h': 4, 'order': 5, 'link': 'http://datosabiertos.enacom.gob.ar/dataviews/240898/-/', 'w': 4, 'y': 4, 'x': 8, 'guid': 'ACCES-A-INTER-FIJO-POR', 'type': 'ds', 'id': 240898, 'revision': {'parameters': [], 'title': 'Acceso a Internet fijo por tecnología y provincia', 'modified_at': '2023-08-08T15:42:37Z', 'id': 255796, 'published': True, 'slug': 'acceso-a-internet-fijo-por-tecnologia-y-provincia'}}, {'parameters': '', 'h': 4, 'html': '<p><span style=\"font-size: 10pt; line-height: 115%; font-family: \\'Gotham Black\\'; color: #0099ff;\">Aclaraci&oacute;n sobre el c&aacute;lculo de la velocidad promedio de bajada de Internet fijo en Argentina</span></p><p>&nbsp;</p><p><span style=\"font-size: 9.0pt; line-height: 115%; font-family: \\'Gotham Light\\';\">Hasta el tercer trimestre de 2017 los operadores del servicio de Internet fijo reportaban a ENACOM (antes AFTIC y CNC) el n&uacute;mero de accesos entre los siguientes rangos de velocidad:</span></p><p>&nbsp;</p><ol><li><span style=\"font-size: 9.0pt; line-height: 115%; font-family: \\'Gotham Light\\';\">Hasta 512 kbps</span></li><li><span style=\"font-size: 9.0pt; line-height: 115%; font-family: \\'Gotham Light\\';\">Entre 512 kbps y 1 Mbps</span></li><li><span style=\"font-size: 9.0pt; line-height: 115%; font-family: \\'Gotham Light\\';\">Entre 1 Mbps y 6 Mbps</span></li><li><span style=\"font-size: 9.0pt; line-height: 115%; font-family: \\'Gotham Light\\';\">Entre 6 Mbps y 10 Mbps</span></li><li><span style=\"font-size: 9.0pt; line-height: 115%; font-family: \\'Gotham Light\\';\">Entre 10 Mbps y 20 Mbps</span></li><li><span style=\"font-size: 9.0pt; line-height: 115%; font-family: \\'Gotham Light\\';\">Entre 20 Mbps y 30 Mbps</span></li><li><span style=\"font-size: 9.0pt; line-height: 115%; font-family: \\'Gotham Light\\';\">M&aacute;s de 30 Mbps</span></li></ol><p>&nbsp;</p><p><span style=\"font-size: 9.0pt; line-height: 115%; font-family: \\'Gotham Light\\';\">Con el fin de contar con mejor informaci&oacute;n del mercado y siguiendo metodolog&iacute;as internacionales de medici&oacute;n desde el cuarto trimestre de 2017 se solicita el n&uacute;mero de accesos por Mbps. </span></p><p>&nbsp;</p><p><span style=\"font-size: 9.0pt; line-height: 115%; font-family: \\'Gotham Light\\';\">En consecuencia y ante el desconocimiento exacto de la distribuci&oacute;n de los accesos entre los rangos, la velocidad promedio (VP) est&aacute; calculada usando el punto medio de cada rango como muestra la siguiente f&oacute;rmula:</span></p><p style=\"text-align: center;\">&nbsp;</p><p style=\"text-align: center;\"><em><span style=\"font-size: 7.0pt; line-height: 115%; font-family: \\'Gotham Light\\';\">VP = (0,512*AR1 + 0,7512*AR2 + 3,5*AR3 + 8*AR4 + 15*AR5 + 25*AR6 + 30*AR7)/Total de accesos reportados</span></em></p><p>&nbsp;</p><p><span style=\"font-size: 9.0pt; line-height: 115%; font-family: \\'Gotham Light\\';\">Donde AR1 es el total de accesos reportados para el primer rango (Hasta 512 kbps); AR2 es el total de accesos reportados para el segundo rango (Entre 512 kbps y 1 Mbps) y as&iacute; sucesivamente.</span></p><p>&nbsp;</p><p><span style=\"font-size: 9.0pt; line-height: 115%; font-family: \\'Gotham Light\\';\">D</span><span style=\"font-size: 9.0pt; line-height: 115%; font-family: \\'Gotham Light\\';\">esde el cuarto trimestre de 2017, VP se calcula como el promedio de las velocidades unitarias en Mbps ponderadas por el n&uacute;mero de accesos reportados para cada velocidad.</span></p><p>&nbsp;</p><p>&nbsp;</p>', 'w': 4, 'y': 8, 'x': 0, 'type': 'html', 'order': 6}, {'doc_type': 'visualization', 'datastream': {'revision': 288059}, 'parameters': '', 'h': 4, 'order': 7, 'link': 'http://datosabiertos.enacom.gob.ar/visualizations/31361/-/', 'w': 4, 'y': 8, 'x': 4, 'guid': 'VELOC-PROME-DE-BAJAD-DE', 'type': 'vz', 'id': 31361, 'revision': {'vz_lib': 'google', 'vz_impl_details': {'format': {'geoMapColorMax': '', 'showLegend': 'checked', 'geoMapDisplayOption': '', 'explorer': '', 'correlativeData': 'false', 'geoMapColorDefault': '', 'chartTemplate': 'basicchart', 'nullValuePreset': '', 'isStacked': '', 'invertData': 'checked', 'geoMapColorBackground': '', 'invertedAxis': '', 'showXAxis': 'checked', 'geoMapColorMiddle': '', 'type': 'linechart', 'geoMapDisplayValue': '', 'geoMapDisplayType': '', 'showYAxis': 'checked', 'geoMapColorDataless': '', 'geoMapColorMin': '', 'nullValueAction': 'exclude'}, 'data': 'C2:C17', 'chart': {'geoType': '', 'is3D': 'false', 'labelSelection': 'D2:D17', 'latitudSelection': '', 'headerSelection': 'C1:C1', 'isoSelection': '', 'zoom': None, 'bounds': '', 'regionSelection': '', 'traceSelection': '', 'longitudSelection': '', 'mapType': ''}, 'title': 'Velocidad Media de bajada de Internet fijo'}, 'parameters': [], 'title': 'Velocidad Media de bajada de Internet fijo', 'vz_type': 'linechart', 'published': True, 'modified_at': '2023-08-08T15:35:37Z', 'id': 54975, 'slug': 'velocidad-media-de-bajada-de-internet-fijo'}}, {'doc_type': 'datastream', 'parameters': '', 'h': 4, 'order': 8, 'link': 'http://datosabiertos.enacom.gob.ar/dataviews/245546/-/', 'w': 4, 'y': 8, 'x': 8, 'guid': 'VELOC-PROME-DE-BAJAD-DE', 'type': 'ds', 'id': 245546, 'revision': {'parameters': [], 'title': 'Velocidad media de bajada de Internet fijo por provincia', 'modified_at': '2023-08-09T12:59:25Z', 'id': 291264, 'published': True, 'slug': 'velocidad-media-de-bajada-de-internet-fijo-por-provincia'}}, {'doc_type': 'visualization', 'datastream': {'revision': 291791}, 'parameters': '', 'h': 4, 'order': 9, 'link': 'http://datosabiertos.enacom.gob.ar/visualizations/31743/-/', 'w': 4, 'y': 12, 'x': 0, 'guid': 'DISTR-DE-LOS-ACCES-76145', 'type': 'vz', 'id': 31743, 'revision': {'vz_lib': 'd3', 'vz_impl_details': {'format': {'geoMapColorMax': '', 'showLegend': 'checked', 'geoMapDisplayOption': '', 'explorer': '', 'correlativeData': 'false', 'geoMapColorDefault': '', 'chartTemplate': 'basicchart', 'nullValuePreset': '', 'isStacked': '', 'invertData': '', 'geoMapColorBackground': '', 'invertedAxis': '', 'showXAxis': 'checked', 'geoMapColorMiddle': '', 'type': 'donutchart', 'geoMapDisplayValue': '', 'geoMapDisplayType': '', 'showYAxis': 'checked', 'geoMapColorDataless': '', 'geoMapColorMin': '', 'nullValueAction': 'exclude'}, 'data': 'C2:J2', 'chart': {'geoType': '', 'is3D': 'false', 'labelSelection': 'C1:J1', 'latitudSelection': '', 'headerSelection': 'A2:A2', 'isoSelection': '', 'zoom': None, 'bounds': '', 'regionSelection': '', 'traceSelection': '', 'longitudSelection': '', 'mapType': ''}, 'title': 'Distribución de los accesos totales nacionales a Internet fijo por velocidad'}, 'parameters': [], 'title': 'Distribución de los accesos totales nacionales a Internet fijo por velocidad', 'vz_type': 'donutchart', 'published': True, 'modified_at': '2023-10-31T17:13:37Z', 'id': 56070, 'slug': 'distribucion-de-los-accesos-totales-nacionales-a-internet-fijo-por-velocidad'}}, {'doc_type': 'datastream', 'parameters': '', 'h': 4, 'order': 10, 'link': 'http://datosabiertos.enacom.gob.ar/dataviews/240904/-/', 'w': 4, 'y': 12, 'x': 4, 'guid': 'ACCES-A-INTER-FIJO-23248', 'type': 'ds', 'id': 240904, 'revision': {'parameters': [], 'title': 'Acceso a Internet Fijo por rangos de velocidad de bajada y provincia', 'modified_at': '2023-10-31T17:13:38Z', 'id': 291790, 'published': True, 'slug': 'acceso-a-internet-fijo-por-rangos-de-velocidad-de-bajada-y-provincia'}}, {'doc_type': 'datastream', 'parameters': '', 'h': 4, 'order': 11, 'link': 'http://datosabiertos.enacom.gob.ar/dataviews/248812/-/', 'w': 4, 'y': 12, 'x': 8, 'guid': 'ACCES-A-INTER-FIJO-97624', 'type': 'ds', 'id': 248812, 'revision': {'parameters': [], 'title': 'Accesos a Internet fijo por velocidad bajada  y provincia', 'modified_at': '2023-08-08T15:52:46Z', 'id': 279174, 'published': True, 'slug': 'accesos-a-internet-fijo-por-velocidad-bajada-y-provincia'}}, {'doc_type': 'visualization', 'datastream': {'revision': 275023}, 'parameters': '', 'h': 4, 'order': 12, 'link': 'http://datosabiertos.enacom.gob.ar/visualizations/29879/-/', 'w': 4, 'y': 16, 'x': 0, 'guid': 'INGRE-TRIME-POR-LA-PREST', 'type': 'vz', 'id': 29879, 'revision': {'vz_lib': 'google', 'vz_impl_details': {'format': {'geoMapColorMax': '', 'showLegend': 'checked', 'geoMapDisplayOption': '', 'geoMapColorDefault': '', 'chartTemplate': 'basicchart', 'nullValuePreset': '', 'geoMapColorMiddle': '', 'invertData': 'checked', 'geoMapColorBackground': '', 'invertedAxis': '', 'type': 'linechart', 'geoMapDisplayValue': '', 'geoMapDisplayType': '', 'correlativeData': 'false', 'geoMapColorDataless': '', 'geoMapColorMin': '', 'nullValueAction': 'exclude'}, 'data': 'C2:C17', 'chart': {'geoType': '', 'is3D': 'false', 'labelSelection': 'D2:D17', 'latitudSelection': '', 'headerSelection': 'C1:C1', 'isoSelection': '', 'zoom': None, 'bounds': '', 'regionSelection': '', 'traceSelection': '', 'longitudSelection': '', 'mapType': ''}, 'title': 'Ingresos trimestrales por la prestación del servicio de Internet fijo'}, 'parameters': [], 'title': 'Ingresos trimestrales por la prestación del servicio de Internet fijo', 'vz_type': 'linechart', 'published': True, 'modified_at': '2023-08-08T15:41:11Z', 'id': 49267, 'slug': 'ingresos-trimestrales-por-la-prestacion-del-servicio-de-internet-fijo'}}, {'doc_type': 'datastream', 'parameters': '', 'h': 4, 'order': 13, 'link': 'http://datosabiertos.enacom.gob.ar/dataviews/252829/-/', 'w': 4, 'y': 16, 'x': 4, 'guid': 'ACCES-A-INTER-FIJO-16249', 'type': 'ds', 'id': 252829, 'revision': {'parameters': [], 'title': 'Accesos a Internet fijo por velocidad de bajada y localidad', 'modified_at': '2023-08-08T15:35:39Z', 'id': 277617, 'published': True, 'slug': 'accesos-a-internet-fijo-por-velocidad-de-bajada-y-localidad'}}, {'doc_type': 'datastream', 'parameters': '', 'h': 4, 'order': 14, 'link': 'http://datosabiertos.enacom.gob.ar/dataviews/252830/-/', 'w': 4, 'y': 16, 'x': 8, 'guid': 'ACCES-A-INTER-FIJO-62463', 'type': 'ds', 'id': 252830, 'revision': {'parameters': [], 'title': 'Accesos a Internet fijo por tecnología y localidad', 'modified_at': '2023-08-08T15:41:10Z', 'id': 279175, 'published': True, 'slug': 'accesos-a-internet-fijo-por-tecnologia-y-localidad'}}, {'doc_type': 'datastream', 'parameters': '', 'h': 4, 'order': 15, 'link': 'http://datosabiertos.enacom.gob.ar/dataviews/251962/-/', 'w': 12, 'y': 20, 'x': 0, 'guid': 'LISTA-DE-LOCAL-CON-CONEC', 'type': 'ds', 'id': 251962, 'revision': {'parameters': [], 'title': 'Listado de localidades con conectividad a internet.', 'modified_at': '2023-07-19T13:43:01Z', 'id': 275022, 'published': True, 'slug': 'listado-de-localidades-con-conectividad-a-internet'}}]}\n"
     ]
    }
   ],
   "source": [
    "# Abre el archivo JSON\n",
    "with open('datos_enacom.json', 'r') as archivo:\n",
    "    datos = json.load(archivo)\n",
    "\n",
    "# Ahora puedes acceder a los datos en la variable 'datos'\n",
    "print(datos)\n",
    "\n"
   ]
  },
  {
   "cell_type": "markdown",
   "id": "d46c4297-9052-47fa-b1f9-a57883c5af81",
   "metadata": {},
   "source": [
    "A partir de cada URL entregada en datos_enacom.json, se busco y se exporto cada una de las base de datos. \n",
    "1- http://datosabiertos.enacom.gob.ar/visualizations/32226/-/ \n",
    "2- http://datosabiertos.enacom.gob.ar/visualizations/29883/-/\n",
    "3- http://datosabiertos.enacom.gob.ar/dataviews/240976/-/\n",
    "4- http://datosabiertos.enacom.gob.ar/dataviews/240974/-/\n",
    "5- https://datosabiertos.enacom.gob.ar/visualizations/29881/-/\n",
    "6- https://datosabiertos.enacom.gob.ar/dataviews/240898/-/\n",
    "7- https://datosabiertos.enacom.gob.ar/visualizations/31361/-/\n",
    "8- https://datosabiertos.enacom.gob.ar/dataviews/245546/-/\n",
    "9- https://datosabiertos.enacom.gob.ar/visualizations/31743/-/\n",
    "10- https://datosabiertos.enacom.gob.ar/dataviews/240904/-/\n",
    "11- https://datosabiertos.enacom.gob.ar/dataviews/248812/-/\n",
    "12- https://datosabiertos.enacom.gob.ar/visualizations/29879/-/\n",
    "13- https://datosabiertos.enacom.gob.ar/dataviews/252829/-/\n",
    "14- https://datosabiertos.enacom.gob.ar/dataviews/252830/-/\n",
    "15- https://datosabiertos.enacom.gob.ar/dataviews/251962/-/"
   ]
  }
 ],
 "metadata": {
  "kernelspec": {
   "display_name": "Python 3 (ipykernel)",
   "language": "python",
   "name": "python3"
  },
  "language_info": {
   "codemirror_mode": {
    "name": "ipython",
    "version": 3
   },
   "file_extension": ".py",
   "mimetype": "text/x-python",
   "name": "python",
   "nbconvert_exporter": "python",
   "pygments_lexer": "ipython3",
   "version": "3.11.5"
  }
 },
 "nbformat": 4,
 "nbformat_minor": 5
}
